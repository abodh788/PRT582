{
  "nbformat": 4,
  "nbformat_minor": 0,
  "metadata": {
    "colab": {
      "provenance": []
    },
    "kernelspec": {
      "name": "python3",
      "display_name": "Python 3"
    },
    "language_info": {
      "name": "python"
    }
  },
  "cells": [
    {
      "cell_type": "code",
      "execution_count": null,
      "metadata": {
        "colab": {
          "base_uri": "https://localhost:8080/"
        },
        "id": "3fNif5Vd52e3",
        "outputId": "4183bc5f-62b1-44d6-b5a5-820a6aee8d5e"
      },
      "outputs": [
        {
          "output_type": "stream",
          "name": "stdout",
          "text": [
            "Welcome. Guess the Number!\n"
          ]
        }
      ],
      "source": [
        "import random\n",
        "\n",
        "def generate_random_number():\n",
        "    \"\"\"Generate a random 4-digit number as a string.\"\"\"\n",
        "    return str(random.randint(1000, 9999))\n",
        "\n",
        "def get_user_input():\n",
        "    \"\"\"Capture and return user input for their guess.\"\"\"\n",
        "    return input(\"Enter your guess: \")\n",
        "\n",
        "def check_guess(secret_number, guess):\n",
        "    \"\"\"Evaluate a guess and provide hints.\"\"\"\n",
        "    circles = sum(1 for s, g in zip(secret_number, guess) if s == g)\n",
        "    common_digits = set(secret_number) & set(guess)\n",
        "    xs = sum(min(secret_number.count(d), guess.count(d)) for d in common_digits) - circles\n",
        "    return f'{circles} circles, {xs} xs'\n",
        "\n",
        "def game_loop():\n",
        "    \"\"\"Run the game loop, allowing the player to guess or quit.\"\"\"\n",
        "    secret_number = generate_random_number()\n",
        "    attempts = 0\n",
        "\n",
        "    while True:\n",
        "        guess = get_user_input()\n",
        "\n",
        "        if guess == 'quit':\n",
        "            return \"Game Over\"\n",
        "\n",
        "        attempts += 1\n",
        "        hints = check_guess(secret_number, guess)\n",
        "        print(f\"Hints: {hints}\")\n",
        "\n",
        "        if hints.startswith(\"4 circles\"):\n",
        "            return f\"Congratulations! You guessed the number in {attempts} attempts.\"\n",
        "\n",
        "def display_results(attempts):\n",
        "    \"\"\"Display the number of attempts and offer the option to play again.\"\"\"\n",
        "    print(f\"Number of attempts: {attempts}\")\n",
        "    choice = input(\"Play again? (yes/no): \")\n",
        "    if choice == 'yes':\n",
        "        game_loop()\n",
        "\n",
        "if __name__ == '__main__':\n",
        "    print(\"Welcome. Guess the Number!\")\n",
        "    result = game_loop()\n",
        "    print(result)\n"
      ]
    }
  ]
}